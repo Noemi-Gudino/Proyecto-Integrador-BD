{
 "cells": [
  {
   "cell_type": "code",
   "execution_count": 2,
   "id": "1d8b3b1c-117e-4fe9-b2ee-90b0c5f895e6",
   "metadata": {},
   "outputs": [],
   "source": [
    "from neo4j import GraphDatabase\n",
    "driver = GraphDatabase.driver(\"bolt://neo4j:7687\", \n",
    "auth=(\"neo4j\", \"neo4j123\"))\n"
   ]
  },
  {
   "cell_type": "code",
   "execution_count": null,
   "id": "2cfd304c-ef18-44dd-b41d-6f56ed249354",
   "metadata": {},
   "outputs": [],
   "source": []
  }
 ],
 "metadata": {
  "kernelspec": {
   "display_name": "Python 3 (ipykernel)",
   "language": "python",
   "name": "python3"
  },
  "language_info": {
   "codemirror_mode": {
    "name": "ipython",
    "version": 3
   },
   "file_extension": ".py",
   "mimetype": "text/x-python",
   "name": "python",
   "nbconvert_exporter": "python",
   "pygments_lexer": "ipython3",
   "version": "3.11.13"
  }
 },
 "nbformat": 4,
 "nbformat_minor": 5
}
